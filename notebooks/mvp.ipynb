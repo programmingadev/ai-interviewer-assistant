{
  "nbformat": 4,
  "nbformat_minor": 0,
  "metadata": {
    "colab": {
      "provenance": []
    },
    "kernelspec": {
      "name": "python3",
      "display_name": "Python 3"
    },
    "language_info": {
      "name": "python"
    }
  },
  "cells": [
    {
      "cell_type": "code",
      "execution_count": 44,
      "metadata": {
        "id": "4GWLm4carzSF"
      },
      "outputs": [],
      "source": [
        "!pip install -q openai pypdf gradio"
      ]
    },
    {
      "cell_type": "code",
      "source": [
        "# Python modules:\n",
        "import os\n",
        "import re\n",
        "from IPython.display import display, Markdown\n",
        "\n",
        "# LLMs:\n",
        "from openai import OpenAI\n",
        "\n",
        "# Third-party & utils:\n",
        "import pypdf\n",
        "import gradio as gr\n",
        "\n",
        "# Colab:\n",
        "from google.colab import userdata"
      ],
      "metadata": {
        "id": "A36CcaiosG78"
      },
      "execution_count": 45,
      "outputs": []
    },
    {
      "cell_type": "code",
      "source": [
        "# Configuration of the API KEY and setup of the LLM client:\n",
        "os.environ['OPENAI_API_KEY'] = userdata.get('OPENAI_API_KEY')\n",
        "client = OpenAI()"
      ],
      "metadata": {
        "id": "b5S8HK-3sMT6"
      },
      "execution_count": 18,
      "outputs": []
    },
    {
      "cell_type": "markdown",
      "source": [
        "## Step 01: Input Loader\n",
        "\n",
        "- User uploads resume (PDF, or Markdown).\n",
        "- Enters job URL / Job Description text.\n",
        "- Optional: interviewer name, LinkedIn, role."
      ],
      "metadata": {
        "id": "OY9vL1fCtSgy"
      }
    },
    {
      "cell_type": "code",
      "source": [
        "def upload_resume_and_return_content(file):\n",
        "  \"\"\"\n",
        "  This function reads the PDF fle uploaded and returns the .\n",
        "  \"\"\"\n",
        "  pdf_text = \"\"\n",
        "\n",
        "  pdf_reader = pypdf.PdfReader(file)\n",
        "  pdf_pages = pdf_reader.pages\n",
        "\n",
        "  for page in pdf_pages:\n",
        "    pdf_text += page.extract_text()\n",
        "\n",
        "  return pdf_text\n",
        "\n",
        "def clean_pdf_text(text):\n",
        "  \"\"\"\n",
        "  Remove multiple lines and spaces from the text.\n",
        "  \"\"\"\n",
        "  text = re.sub(r'\\n{2,}', '\\n', text)\n",
        "  text = re.sub(r'[ ]{2,}', ' ', text)\n",
        "  return text.strip()"
      ],
      "metadata": {
        "id": "_gODiNQctFAu"
      },
      "execution_count": 29,
      "outputs": []
    },
    {
      "cell_type": "code",
      "source": [
        "# User resume:\n",
        "raw_user_resume = upload_resume_and_return_content(\"./Leandro_2025.pdf\")\n",
        "user_resume = clean_pdf_text(raw_user_resume)"
      ],
      "metadata": {
        "id": "pIFGMPCgvNYc"
      },
      "execution_count": 36,
      "outputs": []
    },
    {
      "cell_type": "code",
      "source": [
        "# JSON description:\n",
        "prompt = {\n",
        "  \"job_url\": \"\",\n",
        "  \"job_description\": \"\",\n",
        "  \"interviewer_name\": \"\",\n",
        "  \"interviewer_linkedin\": \"\",\n",
        "  \"interviewer_role\": \"\",\n",
        "  \"interviewer_experience\": \"\"\n",
        "}"
      ],
      "metadata": {
        "id": "SHY4qH58yAr8"
      },
      "execution_count": 61,
      "outputs": []
    },
    {
      "cell_type": "markdown",
      "source": [
        "## Step 02: Interview Simulation Engine\n",
        "\n",
        "- Generates tailored questions based on job and resume\n",
        "- Handles real-time interaction (text initially, voice later)\n",
        "- Supports behavioral & technical rounds\n",
        "\n"
      ],
      "metadata": {
        "id": "2wBkd7vPxWTF"
      }
    },
    {
      "cell_type": "code",
      "source": [],
      "metadata": {
        "id": "DXFDVniEvl6g"
      },
      "execution_count": null,
      "outputs": []
    },
    {
      "cell_type": "markdown",
      "source": [
        "## Step 03: Feedback Engine\n",
        "\n",
        "- Analyzes each answer using:\n",
        "  - STAR structure recognition\n",
        "  - Clarity/relevance rubric\n",
        "- Highlights strengths, flags issues\n"
      ],
      "metadata": {
        "id": "WYdgSj97xh7i"
      }
    },
    {
      "cell_type": "code",
      "source": [],
      "metadata": {
        "id": "_yNfIZTmxvRT"
      },
      "execution_count": null,
      "outputs": []
    },
    {
      "cell_type": "markdown",
      "source": [
        "## Step 04: Replay & Summary\n",
        "\n",
        "- Transcript of Q&A\n",
        "- Highlight key moments\n",
        "- Score each question and tag areas for improvement\n"
      ],
      "metadata": {
        "id": "tkPcuSUrxv1I"
      }
    },
    {
      "cell_type": "code",
      "source": [],
      "metadata": {
        "id": "Lyrl1-n1x2cB"
      },
      "execution_count": null,
      "outputs": []
    },
    {
      "cell_type": "markdown",
      "source": [
        "## Step 05: Progress Tracker\n",
        "\n",
        "- Stores past mock sessions\n",
        "- Tracks performance over time"
      ],
      "metadata": {
        "id": "XtnbcG1Nx261"
      }
    },
    {
      "cell_type": "code",
      "source": [],
      "metadata": {
        "id": "IMOI5jdF3BYJ"
      },
      "execution_count": null,
      "outputs": []
    },
    {
      "cell_type": "code",
      "source": [
        "# Gradio UI:\n",
        "def build_prompt(job_url, job_description, interviewer_name, interviewer_linkedin, interviewer_role, interviewer_experience):\n",
        "    return {\n",
        "        \"job_url\": job_url,\n",
        "        \"job_description\": job_description,\n",
        "        \"interviewer_name\": interviewer_name,\n",
        "        \"interviewer_linkedin\": interviewer_linkedin,\n",
        "        \"interviewer_role\": interviewer_role,\n",
        "        \"interviewer_experience\": interviewer_experience\n",
        "    }\n",
        "\n",
        "\n",
        "with gr.Blocks() as app_ui:\n",
        "    gr.Markdown(\"# Job Description and Interviewer Information\")\n",
        "    gr.Markdown(\"----\")\n",
        "\n",
        "    upload_button = gr.UploadButton(\"Upload Resume\", file_types=[\".pdf\"])\n",
        "    user_resume = gr.Textbox(label=\"User Resume\", interactive=False)\n",
        "    upload_button.upload(upload_resume_and_return_content, upload_button, user_resume)\n",
        "\n",
        "    gr.Markdown(\"----\")\n",
        "    job_url = gr.Textbox(label=\"Job URL\")\n",
        "    job_description = gr.Textbox(label=\"Job Description\", lines=5)\n",
        "\n",
        "    gr.Markdown(\"----\")\n",
        "    interviewer_name = gr.Textbox(label=\"Interviewer Name\")\n",
        "    interviewer_linkedin = gr.Textbox(label=\"Interviewer LinkedIn\")\n",
        "    interviewer_role = gr.Textbox(label=\"Interviewer Role\")\n",
        "    interviewer_experience = gr.Textbox(label=\"Interviewer Experience\")\n",
        "\n",
        "    gr.Markdown(\"----\")\n",
        "    submit_btn = gr.Button(\"Build Prompt JSON\")\n",
        "    prompt_output = gr.JSON(label=\"Prompt JSON Output\")\n",
        "\n",
        "    submit_btn.click(\n",
        "        build_prompt,\n",
        "        inputs=[\n",
        "            job_url,\n",
        "            job_description,\n",
        "            interviewer_name,\n",
        "            interviewer_linkedin,\n",
        "            interviewer_role,\n",
        "            interviewer_experience\n",
        "        ],\n",
        "        outputs=prompt_output\n",
        "    )\n",
        "\n",
        "app_ui.launch(share=True)"
      ],
      "metadata": {
        "colab": {
          "base_uri": "https://localhost:8080/",
          "height": 612
        },
        "id": "U_TMu4S8x6El",
        "outputId": "1e421bb7-e315-442d-a157-5f894580127a"
      },
      "execution_count": 66,
      "outputs": [
        {
          "output_type": "stream",
          "name": "stdout",
          "text": [
            "Colab notebook detected. To show errors in colab notebook, set debug=True in launch()\n",
            "* Running on public URL: https://f1f8c1748389dbfcc4.gradio.live\n",
            "\n",
            "This share link expires in 1 week. For free permanent hosting and GPU upgrades, run `gradio deploy` from the terminal in the working directory to deploy to Hugging Face Spaces (https://huggingface.co/spaces)\n"
          ]
        },
        {
          "output_type": "display_data",
          "data": {
            "text/plain": [
              "<IPython.core.display.HTML object>"
            ],
            "text/html": [
              "<div><iframe src=\"https://f1f8c1748389dbfcc4.gradio.live\" width=\"100%\" height=\"500\" allow=\"autoplay; camera; microphone; clipboard-read; clipboard-write;\" frameborder=\"0\" allowfullscreen></iframe></div>"
            ]
          },
          "metadata": {}
        },
        {
          "output_type": "execute_result",
          "data": {
            "text/plain": []
          },
          "metadata": {},
          "execution_count": 66
        }
      ]
    },
    {
      "cell_type": "code",
      "source": [],
      "metadata": {
        "id": "wSG3plR03-wO"
      },
      "execution_count": null,
      "outputs": []
    }
  ]
}